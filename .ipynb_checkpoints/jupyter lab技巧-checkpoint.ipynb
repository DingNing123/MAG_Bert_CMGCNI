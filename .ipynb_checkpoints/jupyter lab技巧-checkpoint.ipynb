{
 "cells": [
  {
   "cell_type": "markdown",
   "id": "ef2a7d9a-b4e9-400d-91f9-36b2cc30cba3",
   "metadata": {
    "tags": []
   },
   "source": [
    "# jupyter lab\n",
    "## 技巧\n",
    "\n",
    "- y code\n",
    "- m markdown\n",
    "- r raw\n",
    "\n",
    "*italics*\n",
    "\n",
    "**bold**\n",
    "\n",
    "> blockquote\n",
    "\n",
    "---\n",
    "\n",
    "type some text `in line code ` and some other text\n",
    "\n",
    "or type in a block code\n",
    "\n",
    "```\n",
    "python 1.py\n",
    "```\n",
    "\n",
    "create equations $ x^2 $ using latex\n",
    "\n",
    "www.jupyter.org\n",
    "\n",
    "custome links [link](www.jupyter.org)"
   ]
  },
  {
   "cell_type": "markdown",
   "id": "c0a53e35-dc3c-4dd9-9e87-089e863a0151",
   "metadata": {},
   "source": [
    "### 安装中文语言包 \n",
    "\n",
    "`pip install jupyterlab-language-pack-zh-CN`"
   ]
  },
  {
   "cell_type": "code",
   "execution_count": null,
   "id": "f548a0d5-0a31-44ba-8f09-7245a8269637",
   "metadata": {},
   "outputs": [],
   "source": []
  }
 ],
 "metadata": {
  "kernelspec": {
   "display_name": "Python 3 (ipykernel)",
   "language": "python",
   "name": "python3"
  },
  "language_info": {
   "codemirror_mode": {
    "name": "ipython",
    "version": 3
   },
   "file_extension": ".py",
   "mimetype": "text/x-python",
   "name": "python",
   "nbconvert_exporter": "python",
   "pygments_lexer": "ipython3",
   "version": "3.7.2"
  },
  "toc-autonumbering": false,
  "toc-showcode": false,
  "toc-showmarkdowntxt": false,
  "toc-showtags": true,
  "widgets": {
   "application/vnd.jupyter.widget-state+json": {
    "state": {},
    "version_major": 2,
    "version_minor": 0
   }
  }
 },
 "nbformat": 4,
 "nbformat_minor": 5
}
