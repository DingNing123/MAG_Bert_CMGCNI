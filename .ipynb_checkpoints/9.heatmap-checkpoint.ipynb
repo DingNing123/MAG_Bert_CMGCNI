{
 "cells": [
  {
   "cell_type": "markdown",
   "id": "35721991-6e97-4739-b53d-dd97d3fee5c5",
   "metadata": {},
   "source": [
    "# 9.heatmap "
   ]
  },
  {
   "cell_type": "code",
   "execution_count": null,
   "id": "7924c46c-710f-46d8-b959-1e57fca7cb20",
   "metadata": {},
   "outputs": [],
   "source": []
  }
 ],
 "metadata": {
  "kernelspec": {
   "display_name": "Python 3 (ipykernel)",
   "language": "python",
   "name": "python3"
  },
  "language_info": {
   "codemirror_mode": {
    "name": "ipython",
    "version": 3
   },
   "file_extension": ".py",
   "mimetype": "text/x-python",
   "name": "python",
   "nbconvert_exporter": "python",
   "pygments_lexer": "ipython3",
   "version": "3.7.4"
  }
 },
 "nbformat": 4,
 "nbformat_minor": 5
}
