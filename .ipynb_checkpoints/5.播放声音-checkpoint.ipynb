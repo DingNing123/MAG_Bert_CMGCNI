{
 "cells": [
  {
   "cell_type": "code",
   "execution_count": null,
   "id": "f0be8c1e-266a-43ec-a6bb-c4f17a9e200b",
   "metadata": {},
   "outputs": [],
   "source": [
    "from playsound import playsound \n",
    "playsound('C:\\\\Users\\\\Administrator\\\\Desktop\\\\MAG_Bert_ULGM\\\\test.mp3')"
   ]
  },
  {
   "cell_type": "code",
   "execution_count": null,
   "id": "c866e9a3-9211-472b-abf7-95d837844949",
   "metadata": {},
   "outputs": [],
   "source": [
    "!pip install playsound\n"
   ]
  },
  {
   "cell_type": "code",
   "execution_count": null,
   "id": "a4143a10-f254-4b87-a76d-1b146d1bb438",
   "metadata": {},
   "outputs": [],
   "source": []
  }
 ],
 "metadata": {
  "kernelspec": {
   "display_name": "Python 3 (ipykernel)",
   "language": "python",
   "name": "python3"
  },
  "language_info": {
   "codemirror_mode": {
    "name": "ipython",
    "version": 3
   },
   "file_extension": ".py",
   "mimetype": "text/x-python",
   "name": "python",
   "nbconvert_exporter": "python",
   "pygments_lexer": "ipython3",
   "version": "3.7.4"
  }
 },
 "nbformat": 4,
 "nbformat_minor": 5
}
