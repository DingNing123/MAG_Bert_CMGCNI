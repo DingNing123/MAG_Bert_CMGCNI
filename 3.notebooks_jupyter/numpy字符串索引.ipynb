{
 "cells": [
  {
   "cell_type": "code",
   "execution_count": 5,
   "id": "bb237eff-1a62-4a14-9e8c-890283308279",
   "metadata": {},
   "outputs": [
    {
     "data": {
      "text/plain": [
       "array(['1_60', '1_80'], dtype='<U4')"
      ]
     },
     "execution_count": 5,
     "metadata": {},
     "output_type": "execute_result"
    }
   ],
   "source": [
    "import numpy as np\n",
    "\n",
    "video_ids = ['1_60','1_70','1_80']\n",
    "video_ids = np.array(video_ids)\n",
    "index = [0,2]\n",
    "video_ids[index]"
   ]
  },
  {
   "cell_type": "code",
   "execution_count": null,
   "id": "75520fc9-bdd1-4617-b275-f7d930596115",
   "metadata": {},
   "outputs": [],
   "source": []
  }
 ],
 "metadata": {
  "kernelspec": {
   "display_name": "Python 3 (ipykernel)",
   "language": "python",
   "name": "python3"
  },
  "language_info": {
   "codemirror_mode": {
    "name": "ipython",
    "version": 3
   },
   "file_extension": ".py",
   "mimetype": "text/x-python",
   "name": "python",
   "nbconvert_exporter": "python",
   "pygments_lexer": "ipython3",
   "version": "3.7.4"
  }
 },
 "nbformat": 4,
 "nbformat_minor": 5
}
