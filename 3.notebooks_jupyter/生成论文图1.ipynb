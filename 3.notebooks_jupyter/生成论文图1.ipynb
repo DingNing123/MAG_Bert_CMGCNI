{
 "cells": [
  {
   "cell_type": "code",
   "execution_count": 1,
   "id": "4392e081-6cc5-443a-b387-770a6c67ae34",
   "metadata": {},
   "outputs": [
    {
     "ename": "ModuleNotFoundError",
     "evalue": "No module named 'mustards'",
     "output_type": "error",
     "traceback": [
      "\u001b[0;31m---------------------------------------------------------------------------\u001b[0m",
      "\u001b[0;31mModuleNotFoundError\u001b[0m                       Traceback (most recent call last)",
      "\u001b[0;32m/var/folders/_f/7s4zxldj70v8qp9rrqtq1cth0000gn/T/ipykernel_3201/1311761143.py\u001b[0m in \u001b[0;36m<module>\u001b[0;34m\u001b[0m\n\u001b[0;32m----> 1\u001b[0;31m \u001b[0;32mfrom\u001b[0m \u001b[0mmustards\u001b[0m \u001b[0;32mimport\u001b[0m \u001b[0mMUStartDataset\u001b[0m\u001b[0;34m\u001b[0m\u001b[0;34m\u001b[0m\u001b[0m\n\u001b[0m\u001b[1;32m      2\u001b[0m \u001b[0;32mfrom\u001b[0m \u001b[0mtorch\u001b[0m\u001b[0;34m.\u001b[0m\u001b[0mutils\u001b[0m\u001b[0;34m.\u001b[0m\u001b[0mdata\u001b[0m \u001b[0;32mimport\u001b[0m \u001b[0mDataLoader\u001b[0m\u001b[0;34m\u001b[0m\u001b[0;34m\u001b[0m\u001b[0m\n\u001b[1;32m      3\u001b[0m \u001b[0;32mfrom\u001b[0m \u001b[0mconfigs\u001b[0m \u001b[0;32mimport\u001b[0m \u001b[0;34m*\u001b[0m\u001b[0;34m\u001b[0m\u001b[0;34m\u001b[0m\u001b[0m\n\u001b[1;32m      4\u001b[0m \u001b[0;34m\u001b[0m\u001b[0m\n\u001b[1;32m      5\u001b[0m \u001b[0mtest_dataset\u001b[0m \u001b[0;34m=\u001b[0m \u001b[0mMUStartDataset\u001b[0m\u001b[0;34m(\u001b[0m\u001b[0mmode\u001b[0m\u001b[0;34m=\u001b[0m\u001b[0;34m'test'\u001b[0m\u001b[0;34m,\u001b[0m \u001b[0mfeature_path\u001b[0m\u001b[0;34m=\u001b[0m\u001b[0mfeature_file\u001b[0m\u001b[0;34m)\u001b[0m\u001b[0;34m\u001b[0m\u001b[0;34m\u001b[0m\u001b[0m\n",
      "\u001b[0;31mModuleNotFoundError\u001b[0m: No module named 'mustards'"
     ]
    }
   ],
   "source": [
    "from mustards import MUStartDataset\n",
    "from torch.utils.data import DataLoader\n",
    "from configs import *\n",
    "\n",
    "test_dataset = MUStartDataset(mode='test', feature_path=feature_file)\n",
    "test_dataloader = DataLoader(test_dataset,batch_size=BATCH_SIZE,num_workers=0,shuffle=False)"
   ]
  },
  {
   "cell_type": "code",
   "execution_count": null,
   "id": "7358f8dd-0f8d-4d7d-9d8a-af51c9460777",
   "metadata": {},
   "outputs": [],
   "source": [
    "from PIL import Image\n",
    "from features import load_sample_feature\n",
    "from features import load_box_coordinate\n",
    "def plt_ax_box_picture(ax, video_id, title='(a) Satirical sample'):\n",
    "    img = Image.open(frame_path + video_id +'/00001.jpg')\n",
    "    ax.imshow(img)\n",
    "    save_path = feature_sample_saved_path + video_id + '.pkl'\n",
    "    audio_feature, video_feature, graph, cross_graph, vision_full_feat, cls_names_10 = load_sample_feature(save_path)\n",
    "    boxs = load_box_coordinate(video_id)\n",
    "    index = 0\n",
    "    for cls_name0, bbox in zip(cls_names_10,boxs):\n",
    "        index += 1\n",
    "        if index == 6:\n",
    "            break\n",
    "        ax.add_patch(\n",
    "                plt.Rectangle((bbox[0], bbox[1]),\n",
    "                              bbox[2] - bbox[0],\n",
    "                              bbox[3] - bbox[1], fill=False,\n",
    "                              edgecolor='red', linewidth=2, alpha=0.5)\n",
    "                    )\n",
    "\n",
    "        ax.text(bbox[0], bbox[1] - 2,\n",
    "                        '%s' % (cls_name0),\n",
    "                        bbox=dict(facecolor='blue', alpha=0.5),\n",
    "                        fontsize=10, color='white')\n",
    "        ax.set_title(title)"
   ]
  },
  {
   "cell_type": "code",
   "execution_count": null,
   "id": "60e622d6-a370-4b43-a80c-68564390fac3",
   "metadata": {},
   "outputs": [],
   "source": [
    "import torch\n",
    "\n",
    "def get_video_id(data_loader, label=1):    \n",
    "    with torch.no_grad():\n",
    "        for i_batch, batch in enumerate(data_loader):\n",
    "            print(batch.keys())\n",
    "            labels = batch['labels']\n",
    "            video_ids = batch['video_ids']\n",
    "            print(labels[:10])\n",
    "            sarcasm = (labels==label).nonzero()[0]\n",
    "            print(sarcasm)\n",
    "            video_id = video_ids[sarcasm]\n",
    "            print(video_id)\n",
    "            print('--'*20)\n",
    "            break\n",
    "    return video_id\n"
   ]
  },
  {
   "cell_type": "code",
   "execution_count": null,
   "id": "42c1c5b2-6636-4353-92ba-f48a59680431",
   "metadata": {},
   "outputs": [],
   "source": [
    "sarcasm_video_id = get_video_id(test_dataloader,label=1)\n",
    "non_sarcasm_video_id = get_video_id(test_dataloader,label=0)"
   ]
  },
  {
   "cell_type": "code",
   "execution_count": null,
   "id": "5d6e78a2-4b9e-4b62-8cdd-66b40b341e6e",
   "metadata": {},
   "outputs": [],
   "source": [
    "import json\n",
    "def id_to_utterance(sarcasm_video_id):\n",
    "    data = json.load(open(json_file))\n",
    "    # print(data[sarcasm_video_id].keys())\n",
    "    sarcasm_text = data[sarcasm_video_id]['utterance']\n",
    "    return sarcasm_text\n",
    "sarcasm_text = id_to_utterance(sarcasm_video_id)\n",
    "print(sarcasm_text)\n",
    "non_sarcasm_text = id_to_utterance(non_sarcasm_video_id)\n",
    "non_sarcasm_text"
   ]
  },
  {
   "cell_type": "raw",
   "id": "44891f2d-1d30-47e6-929c-35831adb23db",
   "metadata": {},
   "source": [
    "# 因为现在不是蜜蜂季节，你可以用我的肾上腺素。"
   ]
  },
  {
   "cell_type": "code",
   "execution_count": null,
   "id": "6f5d602a-2a27-4ff2-be9f-b0d33b616732",
   "metadata": {},
   "outputs": [],
   "source": [
    "\n",
    "import numpy as np\n",
    "import matplotlib\n",
    "import matplotlib as mpl\n",
    "import matplotlib.pyplot as plt\n",
    "import pandas as pd\n",
    "\n",
    "fig, (ax1, ax2)= plt.subplots(1, 2,  figsize = (10,5))\n",
    "video_id = sarcasm_video_id\n",
    "plt_ax_box_picture(ax1, video_id, title='(a) Satirical sample' )\n",
    "video_id = non_sarcasm_video_id\n",
    "plt_ax_box_picture(ax2, video_id, title='(b) Non satirical sample ' )\n",
    "fig.tight_layout()\n",
    "plt.savefig(results_path + 'pic_1_5box.png')\n",
    "plt.show()"
   ]
  },
  {
   "cell_type": "code",
   "execution_count": null,
   "id": "2d32ef15-18b5-45b1-9f80-214c743412f9",
   "metadata": {},
   "outputs": [],
   "source": []
  },
  {
   "cell_type": "code",
   "execution_count": null,
   "id": "4662e15e-f991-45ea-bf58-c9da16007043",
   "metadata": {},
   "outputs": [],
   "source": []
  }
 ],
 "metadata": {
  "kernelspec": {
   "display_name": "Python 3 (ipykernel)",
   "language": "python",
   "name": "python3"
  },
  "language_info": {
   "codemirror_mode": {
    "name": "ipython",
    "version": 3
   },
   "file_extension": ".py",
   "mimetype": "text/x-python",
   "name": "python",
   "nbconvert_exporter": "python",
   "pygments_lexer": "ipython3",
   "version": "3.7.2"
  },
  "widgets": {
   "application/vnd.jupyter.widget-state+json": {
    "state": {},
    "version_major": 2,
    "version_minor": 0
   }
  }
 },
 "nbformat": 4,
 "nbformat_minor": 5
}
