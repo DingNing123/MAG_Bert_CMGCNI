{
 "cells": [
  {
   "cell_type": "markdown",
   "id": "99c68a63-f496-4c40-b6bc-161e0177c762",
   "metadata": {},
   "source": [
    "# 对齐网络"
   ]
  },
  {
   "cell_type": "code",
   "execution_count": 9,
   "id": "067400f7-7d54-4869-b787-0541da505a85",
   "metadata": {},
   "outputs": [
    {
     "data": {
      "text/plain": [
       "[('', AlignSubNet())]"
      ]
     },
     "execution_count": 9,
     "metadata": {},
     "output_type": "execute_result"
    }
   ],
   "source": [
    "import torch.nn as nn\n",
    "class AlignSubNet(nn.Module):\n",
    "    def __init__(self, dst_len):\n",
    "        \"\"\"\n",
    "        mode: the way of aligning avg_pool 这个模型并没有参数\n",
    "        \"\"\"\n",
    "        super(AlignSubNet, self).__init__()\n",
    "\n",
    "        # in_dim_t, in_dim_a, in_dim_v = args.feature_dims\n",
    "        # seq_len_t, seq_len_a, seq_len_v = args.seq_lens\n",
    "        self.dst_len = dst_len\n",
    "\n",
    "    def get_seq_len(self):\n",
    "        return self.dst_len\n",
    "    \n",
    "    def __avg_pool(self, text_x, audio_x, video_x):\n",
    "        def align(x):\n",
    "            raw_seq_len = x.size(1)\n",
    "            if raw_seq_len == self.dst_len:\n",
    "                return x\n",
    "            if raw_seq_len // self.dst_len == raw_seq_len / self.dst_len:\n",
    "                pad_len = 0\n",
    "                pool_size = raw_seq_len // self.dst_len\n",
    "            else:\n",
    "                pad_len = self.dst_len - raw_seq_len % self.dst_len\n",
    "                pool_size = raw_seq_len // self.dst_len + 1\n",
    "            pad_x = x[:, -1, :].unsqueeze(1).expand([x.size(0), pad_len, x.size(-1)])\n",
    "            x = torch.cat([x, pad_x], dim=1).view(x.size(0), pool_size, self.dst_len, -1)\n",
    "            x = x.mean(dim=1)\n",
    "            return x\n",
    "        text_x = align(text_x)\n",
    "        audio_x = align(audio_x)\n",
    "        video_x = align(video_x)\n",
    "        return text_x, audio_x, video_x\n",
    "    \n",
    " \n",
    "    def forward(self, text_x, audio_x, video_x):\n",
    "        if text_x.size(1) == audio_x.size(1) == video_x.size(1):\n",
    "            return text_x, audio_x, video_x\n",
    "        return self.__avg_pool(text_x, audio_x, video_x)\n",
    "\n",
    "import torch\n",
    "text = torch.randn(2,24)\n",
    "audio = torch.randn(2,33,33)\n",
    "video = torch.randn(2,10,768)\n",
    "align_subnet = AlignSubNet(text.size(1))\n",
    "t,a,v = align_subnet(text,audio,video)\n",
    "t.shape, a.shape, v.shape\n",
    "list(align_subnet.named_modules())"
   ]
  }
 ],
 "metadata": {
  "kernelspec": {
   "display_name": "Python 3 (ipykernel)",
   "language": "python",
   "name": "python3"
  },
  "language_info": {
   "codemirror_mode": {
    "name": "ipython",
    "version": 3
   },
   "file_extension": ".py",
   "mimetype": "text/x-python",
   "name": "python",
   "nbconvert_exporter": "python",
   "pygments_lexer": "ipython3",
   "version": "3.7.2"
  }
 },
 "nbformat": 4,
 "nbformat_minor": 5
}
